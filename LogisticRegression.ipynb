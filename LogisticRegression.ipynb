{
 "cells": [
  {
   "cell_type": "code",
   "execution_count": 1,
   "metadata": {},
   "outputs": [],
   "source": [
    "import pandas as pd\n",
    "from sklearn.linear_model import LogisticRegression\n",
    "from sklearn.preprocessing import LabelEncoder\n",
    "from sklearn.model_selection import train_test_split\n",
    "from sklearn.tree import DecisionTreeClassifier"
   ]
  },
  {
   "cell_type": "code",
   "execution_count": 2,
   "metadata": {},
   "outputs": [
    {
     "data": {
      "text/html": [
       "<div>\n",
       "<style scoped>\n",
       "    .dataframe tbody tr th:only-of-type {\n",
       "        vertical-align: middle;\n",
       "    }\n",
       "\n",
       "    .dataframe tbody tr th {\n",
       "        vertical-align: top;\n",
       "    }\n",
       "\n",
       "    .dataframe thead th {\n",
       "        text-align: right;\n",
       "    }\n",
       "</style>\n",
       "<table border=\"1\" class=\"dataframe\">\n",
       "  <thead>\n",
       "    <tr style=\"text-align: right;\">\n",
       "      <th></th>\n",
       "      <th>title</th>\n",
       "      <th>drug_id</th>\n",
       "      <th>status</th>\n",
       "      <th>points</th>\n",
       "      <th>vector</th>\n",
       "      <th>safety_met</th>\n",
       "      <th>efficacy_met</th>\n",
       "      <th>administration_therapeutic_route</th>\n",
       "      <th>administration_therapeutic_area</th>\n",
       "      <th>phases</th>\n",
       "      <th>primary_completion</th>\n",
       "    </tr>\n",
       "  </thead>\n",
       "  <tbody>\n",
       "    <tr>\n",
       "      <th>0</th>\n",
       "      <td>Safety and Dose Escalation Study of AAV2-hCHM ...</td>\n",
       "      <td>SPK-7001</td>\n",
       "      <td>Active, not recruiting</td>\n",
       "      <td>10.0</td>\n",
       "      <td>AAV2</td>\n",
       "      <td>Yes</td>\n",
       "      <td>No</td>\n",
       "      <td>Subretinal</td>\n",
       "      <td>Ophthalmology</td>\n",
       "      <td>Phase 1/2</td>\n",
       "      <td>2019</td>\n",
       "    </tr>\n",
       "    <tr>\n",
       "      <th>1</th>\n",
       "      <td>Trial of AAV5-hFIX in Severe or Moderately Sev...</td>\n",
       "      <td>AMT-061</td>\n",
       "      <td>Active, not recruiting</td>\n",
       "      <td>10.0</td>\n",
       "      <td>AAV5</td>\n",
       "      <td>Yes</td>\n",
       "      <td>Yes</td>\n",
       "      <td>Intravenous</td>\n",
       "      <td>Hematology</td>\n",
       "      <td>Phase 1/2</td>\n",
       "      <td>2021</td>\n",
       "    </tr>\n",
       "  </tbody>\n",
       "</table>\n",
       "</div>"
      ],
      "text/plain": [
       "                                               title   drug_id  \\\n",
       "0  Safety and Dose Escalation Study of AAV2-hCHM ...  SPK-7001   \n",
       "1  Trial of AAV5-hFIX in Severe or Moderately Sev...   AMT-061   \n",
       "\n",
       "                   status  points vector safety_met efficacy_met  \\\n",
       "0  Active, not recruiting    10.0   AAV2        Yes           No   \n",
       "1  Active, not recruiting    10.0   AAV5        Yes          Yes   \n",
       "\n",
       "  administration_therapeutic_route  administration_therapeutic_area  \\\n",
       "0                        Subretinal                   Ophthalmology   \n",
       "1                       Intravenous                      Hematology   \n",
       "\n",
       "      phases  primary_completion  \n",
       "0  Phase 1/2                2019  \n",
       "1  Phase 1/2                2021  "
      ]
     },
     "execution_count": 2,
     "metadata": {},
     "output_type": "execute_result"
    }
   ],
   "source": [
    "df = pd.read_csv(\"./cleaned_dataset.csv\").drop(columns=[\"Unnamed: 0\"])\n",
    "df.head(2)"
   ]
  },
  {
   "cell_type": "code",
   "execution_count": 3,
   "metadata": {},
   "outputs": [
    {
     "name": "stdout",
     "output_type": "stream",
     "text": [
      "<class 'pandas.core.frame.DataFrame'>\n",
      "RangeIndex: 60 entries, 0 to 59\n",
      "Data columns (total 11 columns):\n",
      " #   Column                             Non-Null Count  Dtype  \n",
      "---  ------                             --------------  -----  \n",
      " 0   title                              60 non-null     object \n",
      " 1   drug_id                            60 non-null     object \n",
      " 2   status                             60 non-null     object \n",
      " 3   points                             60 non-null     float64\n",
      " 4   vector                             60 non-null     object \n",
      " 5   safety_met                         60 non-null     object \n",
      " 6   efficacy_met                       60 non-null     object \n",
      " 7   administration_therapeutic_route   60 non-null     object \n",
      " 8   administration_therapeutic_area    60 non-null     object \n",
      " 9   phases                             60 non-null     object \n",
      " 10  primary_completion                 60 non-null     int64  \n",
      "dtypes: float64(1), int64(1), object(9)\n",
      "memory usage: 5.3+ KB\n"
     ]
    }
   ],
   "source": [
    "df.info()"
   ]
  },
  {
   "cell_type": "code",
   "execution_count": 4,
   "metadata": {},
   "outputs": [
    {
     "data": {
      "text/plain": [
       "array(['No', 'Yes'], dtype=object)"
      ]
     },
     "execution_count": 4,
     "metadata": {},
     "output_type": "execute_result"
    }
   ],
   "source": [
    "df.efficacy_met.unique()"
   ]
  },
  {
   "attachments": {},
   "cell_type": "markdown",
   "metadata": {},
   "source": [
    "## Labling the data"
   ]
  },
  {
   "cell_type": "code",
   "execution_count": 5,
   "metadata": {},
   "outputs": [
    {
     "data": {
      "text/html": [
       "<div>\n",
       "<style scoped>\n",
       "    .dataframe tbody tr th:only-of-type {\n",
       "        vertical-align: middle;\n",
       "    }\n",
       "\n",
       "    .dataframe tbody tr th {\n",
       "        vertical-align: top;\n",
       "    }\n",
       "\n",
       "    .dataframe thead th {\n",
       "        text-align: right;\n",
       "    }\n",
       "</style>\n",
       "<table border=\"1\" class=\"dataframe\">\n",
       "  <thead>\n",
       "    <tr style=\"text-align: right;\">\n",
       "      <th></th>\n",
       "      <th>Label</th>\n",
       "      <th>Label When Encoded</th>\n",
       "    </tr>\n",
       "  </thead>\n",
       "  <tbody>\n",
       "    <tr>\n",
       "      <th>0</th>\n",
       "      <td>No</td>\n",
       "      <td>0</td>\n",
       "    </tr>\n",
       "    <tr>\n",
       "      <th>1</th>\n",
       "      <td>Yes</td>\n",
       "      <td>1</td>\n",
       "    </tr>\n",
       "    <tr>\n",
       "      <th>2</th>\n",
       "      <td>Yes</td>\n",
       "      <td>1</td>\n",
       "    </tr>\n",
       "  </tbody>\n",
       "</table>\n",
       "</div>"
      ],
      "text/plain": [
       "  Label  Label When Encoded\n",
       "0    No                   0\n",
       "1   Yes                   1\n",
       "2   Yes                   1"
      ]
     },
     "execution_count": 5,
     "metadata": {},
     "output_type": "execute_result"
    }
   ],
   "source": [
    "\n",
    "encoder = LabelEncoder()\n",
    "\n",
    "data_before = df.efficacy_met\n",
    "data_to_label = df.efficacy_met\n",
    "\n",
    "df.efficacy_met = encoder.fit_transform(data_to_label)\n",
    "df.safety_met = encoder.fit_transform(data_to_label)\n",
    "\n",
    "\n",
    "pd.DataFrame({\n",
    "    \"Label\" : data_before,\n",
    "    \"Label When Encoded\": df.efficacy_met\n",
    "}).head(3)"
   ]
  },
  {
   "cell_type": "code",
   "execution_count": 6,
   "metadata": {},
   "outputs": [
    {
     "data": {
      "text/plain": [
       "Index(['title', 'drug_id', 'status', 'points', 'vector', 'safety_met',\n",
       "       'efficacy_met', 'administration_therapeutic_route ',\n",
       "       'administration_therapeutic_area', 'phases', 'primary_completion'],\n",
       "      dtype='object')"
      ]
     },
     "execution_count": 6,
     "metadata": {},
     "output_type": "execute_result"
    }
   ],
   "source": [
    "df.columns"
   ]
  },
  {
   "cell_type": "code",
   "execution_count": 7,
   "metadata": {},
   "outputs": [
    {
     "data": {
      "text/html": [
       "<div>\n",
       "<style scoped>\n",
       "    .dataframe tbody tr th:only-of-type {\n",
       "        vertical-align: middle;\n",
       "    }\n",
       "\n",
       "    .dataframe tbody tr th {\n",
       "        vertical-align: top;\n",
       "    }\n",
       "\n",
       "    .dataframe thead th {\n",
       "        text-align: right;\n",
       "    }\n",
       "</style>\n",
       "<table border=\"1\" class=\"dataframe\">\n",
       "  <thead>\n",
       "    <tr style=\"text-align: right;\">\n",
       "      <th></th>\n",
       "      <th>title</th>\n",
       "      <th>points</th>\n",
       "      <th>safety_met</th>\n",
       "      <th>efficacy_met</th>\n",
       "      <th>primary_completion</th>\n",
       "      <th>status_Active, not recruiting</th>\n",
       "      <th>status_Completed</th>\n",
       "      <th>status_Recruiting</th>\n",
       "      <th>status_Terminated</th>\n",
       "      <th>status_Unknown status</th>\n",
       "      <th>...</th>\n",
       "      <th>drug_id_Valrox</th>\n",
       "      <th>drug_id_Zolgensma</th>\n",
       "      <th>drug_id_rAAV 2/2. hRPE65p. hRPE65</th>\n",
       "      <th>drug_id_rAAV1-CMV- hGAA</th>\n",
       "      <th>drug_id_rAAV1-PG9DP</th>\n",
       "      <th>drug_id_rAAV1.CMV.huFollistatin344</th>\n",
       "      <th>drug_id_rAAV2-CB- hRPE65</th>\n",
       "      <th>drug_id_rAAV2-CBSB- hRPE65</th>\n",
       "      <th>drug_id_rAAV2.REP1</th>\n",
       "      <th>drug_id_scAAV2- P1ND4v2</th>\n",
       "    </tr>\n",
       "  </thead>\n",
       "  <tbody>\n",
       "    <tr>\n",
       "      <th>0</th>\n",
       "      <td>Safety and Dose Escalation Study of AAV2-hCHM ...</td>\n",
       "      <td>10.0</td>\n",
       "      <td>0</td>\n",
       "      <td>0</td>\n",
       "      <td>2019</td>\n",
       "      <td>1</td>\n",
       "      <td>0</td>\n",
       "      <td>0</td>\n",
       "      <td>0</td>\n",
       "      <td>0</td>\n",
       "      <td>...</td>\n",
       "      <td>0</td>\n",
       "      <td>0</td>\n",
       "      <td>0</td>\n",
       "      <td>0</td>\n",
       "      <td>0</td>\n",
       "      <td>0</td>\n",
       "      <td>0</td>\n",
       "      <td>0</td>\n",
       "      <td>0</td>\n",
       "      <td>0</td>\n",
       "    </tr>\n",
       "  </tbody>\n",
       "</table>\n",
       "<p>1 rows × 90 columns</p>\n",
       "</div>"
      ],
      "text/plain": [
       "                                               title  points  safety_met  \\\n",
       "0  Safety and Dose Escalation Study of AAV2-hCHM ...    10.0           0   \n",
       "\n",
       "   efficacy_met  primary_completion  status_Active, not recruiting  \\\n",
       "0             0                2019                              1   \n",
       "\n",
       "   status_Completed  status_Recruiting  status_Terminated  \\\n",
       "0                 0                  0                  0   \n",
       "\n",
       "   status_Unknown status  ...  drug_id_Valrox  drug_id_Zolgensma  \\\n",
       "0                      0  ...               0                  0   \n",
       "\n",
       "   drug_id_rAAV 2/2. hRPE65p. hRPE65  drug_id_rAAV1-CMV- hGAA  \\\n",
       "0                                  0                        0   \n",
       "\n",
       "   drug_id_rAAV1-PG9DP  drug_id_rAAV1.CMV.huFollistatin344  \\\n",
       "0                    0                                   0   \n",
       "\n",
       "   drug_id_rAAV2-CB- hRPE65  drug_id_rAAV2-CBSB- hRPE65  drug_id_rAAV2.REP1  \\\n",
       "0                         0                           0                   0   \n",
       "\n",
       "   drug_id_scAAV2- P1ND4v2  \n",
       "0                        0  \n",
       "\n",
       "[1 rows x 90 columns]"
      ]
     },
     "execution_count": 7,
     "metadata": {},
     "output_type": "execute_result"
    }
   ],
   "source": [
    "df = pd.get_dummies(df, columns=[\n",
    "    \"status\", \"administration_therapeutic_route \", \"administration_therapeutic_area\",\n",
    "    \"phases\", \"vector\", \"drug_id\"\n",
    "])\n",
    "\n",
    "df.head(1)"
   ]
  },
  {
   "attachments": {},
   "cell_type": "markdown",
   "metadata": {},
   "source": [
    "# Splitting Data"
   ]
  },
  {
   "cell_type": "code",
   "execution_count": 8,
   "metadata": {},
   "outputs": [
    {
     "data": {
      "text/html": [
       "<div>\n",
       "<style scoped>\n",
       "    .dataframe tbody tr th:only-of-type {\n",
       "        vertical-align: middle;\n",
       "    }\n",
       "\n",
       "    .dataframe tbody tr th {\n",
       "        vertical-align: top;\n",
       "    }\n",
       "\n",
       "    .dataframe thead th {\n",
       "        text-align: right;\n",
       "    }\n",
       "</style>\n",
       "<table border=\"1\" class=\"dataframe\">\n",
       "  <thead>\n",
       "    <tr style=\"text-align: right;\">\n",
       "      <th></th>\n",
       "      <th>points</th>\n",
       "      <th>safety_met</th>\n",
       "      <th>primary_completion</th>\n",
       "      <th>status_Active, not recruiting</th>\n",
       "      <th>status_Completed</th>\n",
       "      <th>status_Recruiting</th>\n",
       "      <th>status_Terminated</th>\n",
       "      <th>status_Unknown status</th>\n",
       "      <th>administration_therapeutic_route _Intraarticular</th>\n",
       "      <th>administration_therapeutic_route _Intracoronary</th>\n",
       "      <th>...</th>\n",
       "      <th>drug_id_Valrox</th>\n",
       "      <th>drug_id_Zolgensma</th>\n",
       "      <th>drug_id_rAAV 2/2. hRPE65p. hRPE65</th>\n",
       "      <th>drug_id_rAAV1-CMV- hGAA</th>\n",
       "      <th>drug_id_rAAV1-PG9DP</th>\n",
       "      <th>drug_id_rAAV1.CMV.huFollistatin344</th>\n",
       "      <th>drug_id_rAAV2-CB- hRPE65</th>\n",
       "      <th>drug_id_rAAV2-CBSB- hRPE65</th>\n",
       "      <th>drug_id_rAAV2.REP1</th>\n",
       "      <th>drug_id_scAAV2- P1ND4v2</th>\n",
       "    </tr>\n",
       "  </thead>\n",
       "  <tbody>\n",
       "    <tr>\n",
       "      <th>0</th>\n",
       "      <td>10.0</td>\n",
       "      <td>0</td>\n",
       "      <td>2019</td>\n",
       "      <td>1</td>\n",
       "      <td>0</td>\n",
       "      <td>0</td>\n",
       "      <td>0</td>\n",
       "      <td>0</td>\n",
       "      <td>0</td>\n",
       "      <td>0</td>\n",
       "      <td>...</td>\n",
       "      <td>0</td>\n",
       "      <td>0</td>\n",
       "      <td>0</td>\n",
       "      <td>0</td>\n",
       "      <td>0</td>\n",
       "      <td>0</td>\n",
       "      <td>0</td>\n",
       "      <td>0</td>\n",
       "      <td>0</td>\n",
       "      <td>0</td>\n",
       "    </tr>\n",
       "    <tr>\n",
       "      <th>1</th>\n",
       "      <td>10.0</td>\n",
       "      <td>1</td>\n",
       "      <td>2021</td>\n",
       "      <td>1</td>\n",
       "      <td>0</td>\n",
       "      <td>0</td>\n",
       "      <td>0</td>\n",
       "      <td>0</td>\n",
       "      <td>0</td>\n",
       "      <td>0</td>\n",
       "      <td>...</td>\n",
       "      <td>0</td>\n",
       "      <td>0</td>\n",
       "      <td>0</td>\n",
       "      <td>0</td>\n",
       "      <td>0</td>\n",
       "      <td>0</td>\n",
       "      <td>0</td>\n",
       "      <td>0</td>\n",
       "      <td>0</td>\n",
       "      <td>0</td>\n",
       "    </tr>\n",
       "  </tbody>\n",
       "</table>\n",
       "<p>2 rows × 88 columns</p>\n",
       "</div>"
      ],
      "text/plain": [
       "   points  safety_met  primary_completion  status_Active, not recruiting  \\\n",
       "0    10.0           0                2019                              1   \n",
       "1    10.0           1                2021                              1   \n",
       "\n",
       "   status_Completed  status_Recruiting  status_Terminated  \\\n",
       "0                 0                  0                  0   \n",
       "1                 0                  0                  0   \n",
       "\n",
       "   status_Unknown status  administration_therapeutic_route _Intraarticular  \\\n",
       "0                      0                                                 0   \n",
       "1                      0                                                 0   \n",
       "\n",
       "   administration_therapeutic_route _Intracoronary  ...  drug_id_Valrox  \\\n",
       "0                                                0  ...               0   \n",
       "1                                                0  ...               0   \n",
       "\n",
       "   drug_id_Zolgensma  drug_id_rAAV 2/2. hRPE65p. hRPE65  \\\n",
       "0                  0                                  0   \n",
       "1                  0                                  0   \n",
       "\n",
       "   drug_id_rAAV1-CMV- hGAA  drug_id_rAAV1-PG9DP  \\\n",
       "0                        0                    0   \n",
       "1                        0                    0   \n",
       "\n",
       "   drug_id_rAAV1.CMV.huFollistatin344  drug_id_rAAV2-CB- hRPE65  \\\n",
       "0                                   0                         0   \n",
       "1                                   0                         0   \n",
       "\n",
       "   drug_id_rAAV2-CBSB- hRPE65  drug_id_rAAV2.REP1  drug_id_scAAV2- P1ND4v2  \n",
       "0                           0                   0                        0  \n",
       "1                           0                   0                        0  \n",
       "\n",
       "[2 rows x 88 columns]"
      ]
     },
     "execution_count": 8,
     "metadata": {},
     "output_type": "execute_result"
    }
   ],
   "source": [
    "X = df.drop(columns=[\"efficacy_met\", \"title\"])\n",
    "y = df.efficacy_met\n",
    "\n",
    "X_train, X_test, y_train, y_test = train_test_split(X, y, test_size=0.25, random_state=45)\n",
    "\n",
    "X.head(2)"
   ]
  },
  {
   "cell_type": "code",
   "execution_count": 9,
   "metadata": {},
   "outputs": [
    {
     "data": {
      "text/plain": [
       "Index(['points', 'safety_met', 'primary_completion',\n",
       "       'status_Active, not recruiting', 'status_Completed',\n",
       "       'status_Recruiting', 'status_Terminated', 'status_Unknown status',\n",
       "       'administration_therapeutic_route _Intraarticular',\n",
       "       'administration_therapeutic_route _Intracoronary',\n",
       "       'administration_therapeutic_route _Intracranial',\n",
       "       'administration_therapeutic_route _Intramuscular',\n",
       "       'administration_therapeutic_route _Intranasal',\n",
       "       'administration_therapeutic_route _Intraparotidal',\n",
       "       'administration_therapeutic_route _Intrathecal',\n",
       "       'administration_therapeutic_route _Intravenous',\n",
       "       'administration_therapeutic_route _Intravitreal',\n",
       "       'administration_therapeutic_route _Subfoveal',\n",
       "       'administration_therapeutic_route _Subretinal',\n",
       "       'administration_therapeutic_area_Autoimmune',\n",
       "       'administration_therapeutic_area_Cardiovascular',\n",
       "       'administration_therapeutic_area_Hematology',\n",
       "       'administration_therapeutic_area_Metabolic',\n",
       "       'administration_therapeutic_area_Musculoskeletal',\n",
       "       'administration_therapeutic_area_Neurology',\n",
       "       'administration_therapeutic_area_Oncology',\n",
       "       'administration_therapeutic_area_Ophthalmology',\n",
       "       'administration_therapeutic_area_Pulmonary',\n",
       "       'administration_therapeutic_area_Virology', 'phases_Phase 1',\n",
       "       'phases_Phase 1/2', 'phases_Phase 2', 'phases_Phase 2/3',\n",
       "       'phases_Phase 3', 'vector_AAV1', 'vector_AAV2', 'vector_AAV2/5',\n",
       "       'vector_AAV2/8', 'vector_AAV5', 'vector_AAV8', 'vector_AAV9',\n",
       "       'vector_AAVrh10', 'vector_AAVrh74', 'vector_SPK100', 'vector_scAAV9',\n",
       "       'drug_id_A-001', 'drug_id_A-00X', 'drug_id_AAV-CFTR',\n",
       "       'drug_id_AAV1-gammasarcoglycan', 'drug_id_AAV2/8-HLP- FVIII-V3',\n",
       "       'drug_id_AAV2/8.TBG.hARSB', 'drug_id_AAV2CUhCLN2', 'drug_id_ADVM-043',\n",
       "       'drug_id_AGTC-0106', 'drug_id_AMT-061', 'drug_id_AMT-090',\n",
       "       'drug_id_AMT-110', 'drug_id_ART-102', 'drug_id_AT-GTX-501',\n",
       "       'drug_id_BIIB-087', 'drug_id_BIIB-111', 'drug_id_BIIB-112',\n",
       "       'drug_id_CERE-110', 'drug_id_CERE-120', 'drug_id_DTX-101',\n",
       "       'drug_id_GS-010', 'drug_id_GT-AADC ', 'drug_id_Glybera',\n",
       "       'drug_id_Luxturna', 'drug_id_MYO-101', 'drug_id_MYO-102',\n",
       "       'drug_id_Mydicar', 'drug_id_NLX-P101', 'drug_id_RGX-314',\n",
       "       'drug_id_SB-525', 'drug_id_SPK-7001', 'drug_id_SPK-9001',\n",
       "       'drug_id_VYAADC-01', 'drug_id_Valrox', 'drug_id_Zolgensma',\n",
       "       'drug_id_rAAV 2/2. hRPE65p. hRPE65', 'drug_id_rAAV1-CMV- hGAA',\n",
       "       'drug_id_rAAV1-PG9DP', 'drug_id_rAAV1.CMV.huFollistatin344',\n",
       "       'drug_id_rAAV2-CB- hRPE65', 'drug_id_rAAV2-CBSB- hRPE65',\n",
       "       'drug_id_rAAV2.REP1', 'drug_id_scAAV2- P1ND4v2'],\n",
       "      dtype='object')"
      ]
     },
     "execution_count": 9,
     "metadata": {},
     "output_type": "execute_result"
    }
   ],
   "source": [
    "X.columns"
   ]
  },
  {
   "cell_type": "code",
   "execution_count": 10,
   "metadata": {},
   "outputs": [
    {
     "data": {
      "text/plain": [
       "60"
      ]
     },
     "execution_count": 10,
     "metadata": {},
     "output_type": "execute_result"
    }
   ],
   "source": [
    "len(df.title.unique())"
   ]
  },
  {
   "attachments": {},
   "cell_type": "markdown",
   "metadata": {},
   "source": [
    "# Model"
   ]
  },
  {
   "cell_type": "code",
   "execution_count": null,
   "metadata": {},
   "outputs": [],
   "source": []
  },
  {
   "cell_type": "code",
   "execution_count": 11,
   "metadata": {},
   "outputs": [
    {
     "data": {
      "text/plain": [
       "'Score: 1.0'"
      ]
     },
     "execution_count": 11,
     "metadata": {},
     "output_type": "execute_result"
    }
   ],
   "source": [
    "model = LogisticRegression()\n",
    "model.fit(X_train, y_train)\n",
    "\n",
    "\"Score: \" + str(model.score(X_test, y_test))\n"
   ]
  },
  {
   "attachments": {},
   "cell_type": "markdown",
   "metadata": {},
   "source": [
    "# Exporting Model\n"
   ]
  },
  {
   "cell_type": "code",
   "execution_count": 12,
   "metadata": {},
   "outputs": [
    {
     "data": {
      "text/plain": [
       "['./models/logistic-reg.joblib']"
      ]
     },
     "execution_count": 12,
     "metadata": {},
     "output_type": "execute_result"
    }
   ],
   "source": [
    "import joblib \n",
    "\n",
    "joblib.dump(model, \"./models/logistic-reg.joblib\")"
   ]
  }
 ],
 "metadata": {
  "kernelspec": {
   "display_name": "Python 3",
   "language": "python",
   "name": "python3"
  },
  "language_info": {
   "codemirror_mode": {
    "name": "ipython",
    "version": 3
   },
   "file_extension": ".py",
   "mimetype": "text/x-python",
   "name": "python",
   "nbconvert_exporter": "python",
   "pygments_lexer": "ipython3",
   "version": "3.11.1"
  },
  "orig_nbformat": 4
 },
 "nbformat": 4,
 "nbformat_minor": 2
}
