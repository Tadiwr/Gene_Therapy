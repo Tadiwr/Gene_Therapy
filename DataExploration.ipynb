{
 "cells": [
  {
   "cell_type": "code",
   "execution_count": 12,
   "metadata": {},
   "outputs": [],
   "source": [
    "import pandas as pd\n",
    "from matplotlib import pyplot as plt\n"
   ]
  },
  {
   "attachments": {},
   "cell_type": "markdown",
   "metadata": {},
   "source": [
    "# Importing Dataset"
   ]
  },
  {
   "cell_type": "code",
   "execution_count": 3,
   "metadata": {},
   "outputs": [
    {
     "data": {
      "text/html": [
       "<div>\n",
       "<style scoped>\n",
       "    .dataframe tbody tr th:only-of-type {\n",
       "        vertical-align: middle;\n",
       "    }\n",
       "\n",
       "    .dataframe tbody tr th {\n",
       "        vertical-align: top;\n",
       "    }\n",
       "\n",
       "    .dataframe thead th {\n",
       "        text-align: right;\n",
       "    }\n",
       "</style>\n",
       "<table border=\"1\" class=\"dataframe\">\n",
       "  <thead>\n",
       "    <tr style=\"text-align: right;\">\n",
       "      <th></th>\n",
       "      <th>Unnamed: 0</th>\n",
       "      <th>title</th>\n",
       "      <th>drug_id</th>\n",
       "      <th>status</th>\n",
       "      <th>points</th>\n",
       "      <th>vector</th>\n",
       "      <th>safety_met</th>\n",
       "      <th>efficacy_met</th>\n",
       "      <th>administration_therapeutic_route</th>\n",
       "      <th>administration_therapeutic_area</th>\n",
       "      <th>phases</th>\n",
       "      <th>primary_completion</th>\n",
       "    </tr>\n",
       "  </thead>\n",
       "  <tbody>\n",
       "    <tr>\n",
       "      <th>0</th>\n",
       "      <td>0</td>\n",
       "      <td>Safety and Dose Escalation Study of AAV2-hCHM ...</td>\n",
       "      <td>SPK-7001</td>\n",
       "      <td>Active, not recruiting</td>\n",
       "      <td>10.0</td>\n",
       "      <td>AAV2</td>\n",
       "      <td>Yes</td>\n",
       "      <td>No</td>\n",
       "      <td>Subretinal</td>\n",
       "      <td>Ophthalmology</td>\n",
       "      <td>Phase 1/2</td>\n",
       "      <td>2019</td>\n",
       "    </tr>\n",
       "    <tr>\n",
       "      <th>1</th>\n",
       "      <td>1</td>\n",
       "      <td>Trial of AAV5-hFIX in Severe or Moderately Sev...</td>\n",
       "      <td>AMT-061</td>\n",
       "      <td>Active, not recruiting</td>\n",
       "      <td>10.0</td>\n",
       "      <td>AAV5</td>\n",
       "      <td>Yes</td>\n",
       "      <td>Yes</td>\n",
       "      <td>Intravenous</td>\n",
       "      <td>Hematology</td>\n",
       "      <td>Phase 1/2</td>\n",
       "      <td>2021</td>\n",
       "    </tr>\n",
       "  </tbody>\n",
       "</table>\n",
       "</div>"
      ],
      "text/plain": [
       "   Unnamed: 0                                              title   drug_id  \\\n",
       "0           0  Safety and Dose Escalation Study of AAV2-hCHM ...  SPK-7001   \n",
       "1           1  Trial of AAV5-hFIX in Severe or Moderately Sev...   AMT-061   \n",
       "\n",
       "                   status  points vector safety_met efficacy_met  \\\n",
       "0  Active, not recruiting    10.0   AAV2        Yes           No   \n",
       "1  Active, not recruiting    10.0   AAV5        Yes          Yes   \n",
       "\n",
       "  administration_therapeutic_route  administration_therapeutic_area  \\\n",
       "0                        Subretinal                   Ophthalmology   \n",
       "1                       Intravenous                      Hematology   \n",
       "\n",
       "      phases  primary_completion  \n",
       "0  Phase 1/2                2019  \n",
       "1  Phase 1/2                2021  "
      ]
     },
     "execution_count": 3,
     "metadata": {},
     "output_type": "execute_result"
    }
   ],
   "source": [
    "df = pd.read_csv(\"./cleaned_dataset.csv\")\n",
    "df.head(2)"
   ]
  },
  {
   "attachments": {},
   "cell_type": "markdown",
   "metadata": {},
   "source": [
    "# Areas of Study"
   ]
  },
  {
   "cell_type": "code",
   "execution_count": 5,
   "metadata": {},
   "outputs": [
    {
     "data": {
      "text/plain": [
       "array(['Ophthalmology', 'Hematology', 'Neurology', 'Musculoskeletal',\n",
       "       'Oncology', 'Pulmonary', 'Metabolic', 'Autoimmune', 'Virology',\n",
       "       'Cardiovascular'], dtype=object)"
      ]
     },
     "execution_count": 5,
     "metadata": {},
     "output_type": "execute_result"
    }
   ],
   "source": [
    "areas = df.administration_therapeutic_area\n",
    "\n",
    "areas.unique()"
   ]
  },
  {
   "cell_type": "code",
   "execution_count": 17,
   "metadata": {},
   "outputs": [
    {
     "data": {
      "text/plain": [
       "23.333333333333332"
      ]
     },
     "execution_count": 17,
     "metadata": {},
     "output_type": "execute_result"
    }
   ],
   "source": [
    "\n",
    "\n",
    "def countNuerology(this_area : str) -> int :\n",
    "    count = 0\n",
    "    for x in areas.values:\n",
    "        if x == this_area:\n",
    "            count = count + 1\n",
    "\n",
    "    return (count / len(areas)) * 100\n",
    " \n",
    "countNuerology('Neurology')"
   ]
  },
  {
   "attachments": {},
   "cell_type": "markdown",
   "metadata": {},
   "source": [
    "# Pie Chart for Areas"
   ]
  },
  {
   "cell_type": "code",
   "execution_count": 18,
   "metadata": {},
   "outputs": [
    {
     "data": {
      "text/plain": [
       "([<matplotlib.patches.Wedge at 0x2ad381ac0d0>,\n",
       "  <matplotlib.patches.Wedge at 0x2ad38224d10>,\n",
       "  <matplotlib.patches.Wedge at 0x2ad38225c10>,\n",
       "  <matplotlib.patches.Wedge at 0x2ad38226b10>,\n",
       "  <matplotlib.patches.Wedge at 0x2ad38227a10>,\n",
       "  <matplotlib.patches.Wedge at 0x2ad38238ad0>,\n",
       "  <matplotlib.patches.Wedge at 0x2ad38239c50>,\n",
       "  <matplotlib.patches.Wedge at 0x2ad3823ad10>,\n",
       "  <matplotlib.patches.Wedge at 0x2ad38227b10>,\n",
       "  <matplotlib.patches.Wedge at 0x2ad38244b10>],\n",
       " [Text(0.6465637441936395, 0.8899187180267095, 'Ophthalmology'),\n",
       "  Text(-0.7778175321297252, 0.7778173864806728, 'Hematology'),\n",
       "  Text(-1.004899951743044, -0.44741042342219545, 'Neurology'),\n",
       "  Text(-0.11498117473451086, -1.09397409907944, 'Musculoskeletal'),\n",
       "  Text(0.28470108225297397, -1.0625183733771315, 'Oncology'),\n",
       "  Text(0.39420486628845763, -1.0269384223966398, 'Pulmonary'),\n",
       "  Text(0.7360437652160211, -0.817459219586288, 'Metabolic'),\n",
       "  Text(0.9801072373902886, -0.4993894304199647, 'Autoimmune'),\n",
       "  Text(1.0269385146669199, -0.3942046259161614, 'Virology'),\n",
       "  Text(1.086457194390738, -0.17207778693546258, 'Cardiovascular')])"
      ]
     },
     "execution_count": 18,
     "metadata": {},
     "output_type": "execute_result"
    },
    {
     "data": {
      "image/png": "[encoded data removed]",
      "text/plain": [
       "<Figure size 640x480 with 1 Axes>"
      ]
     },
     "metadata": {},
     "output_type": "display_data"
    }
   ],
   "source": [
    "# get areas \n",
    "# get count for areas\n",
    "\n",
    "labels = areas.unique()\n",
    "counts = []\n",
    "\n",
    "for x in labels:\n",
    "    count = countNuerology(x)\n",
    "    counts.append(count)\n",
    "\n",
    "plt.pie(labels=labels, x=counts)"
   ]
  },
  {
   "attachments": {},
   "cell_type": "markdown",
   "metadata": {},
   "source": [
    "# Histogram"
   ]
  },
  {
   "cell_type": "code",
   "execution_count": 21,
   "metadata": {},
   "outputs": [
    {
     "data": {
      "text/plain": [
       "(array([0.3       , 0.45      , 0.68333333, 0.78333333, 0.8       ,\n",
       "        0.81666667, 0.91666667, 0.93333333, 0.95      , 1.        ]),\n",
       " array([0. , 0.9, 1.8, 2.7, 3.6, 4.5, 5.4, 6.3, 7.2, 8.1, 9. ]),\n",
       " <BarContainer object of 10 artists>)"
      ]
     },
     "execution_count": 21,
     "metadata": {},
     "output_type": "execute_result"
    },
    {
     "data": {
      "image/png": "[encoded data removed]",
      "text/plain": [
       "<Figure size 640x480 with 1 Axes>"
      ]
     },
     "metadata": {},
     "output_type": "display_data"
    }
   ],
   "source": [
    "plt.hist(areas.values, density=1, cumulative=True)"
   ]
  },
  {
   "attachments": {},
   "cell_type": "markdown",
   "metadata": {},
   "source": [
    "# Success"
   ]
  },
  {
   "cell_type": "code",
   "execution_count": 30,
   "metadata": {},
   "outputs": [
    {
     "data": {
      "text/html": [
       "<div>\n",
       "<style scoped>\n",
       "    .dataframe tbody tr th:only-of-type {\n",
       "        vertical-align: middle;\n",
       "    }\n",
       "\n",
       "    .dataframe tbody tr th {\n",
       "        vertical-align: top;\n",
       "    }\n",
       "\n",
       "    .dataframe thead th {\n",
       "        text-align: right;\n",
       "    }\n",
       "</style>\n",
       "<table border=\"1\" class=\"dataframe\">\n",
       "  <thead>\n",
       "    <tr style=\"text-align: right;\">\n",
       "      <th></th>\n",
       "      <th>Unnamed: 0</th>\n",
       "      <th>title</th>\n",
       "      <th>drug_id</th>\n",
       "      <th>status</th>\n",
       "      <th>points</th>\n",
       "      <th>vector</th>\n",
       "      <th>safety_met</th>\n",
       "      <th>efficacy_met</th>\n",
       "      <th>administration_therapeutic_route</th>\n",
       "      <th>administration_therapeutic_area</th>\n",
       "      <th>phases</th>\n",
       "      <th>primary_completion</th>\n",
       "    </tr>\n",
       "  </thead>\n",
       "  <tbody>\n",
       "    <tr>\n",
       "      <th>1</th>\n",
       "      <td>1</td>\n",
       "      <td>Trial of AAV5-hFIX in Severe or Moderately Sev...</td>\n",
       "      <td>AMT-061</td>\n",
       "      <td>Active, not recruiting</td>\n",
       "      <td>10.0</td>\n",
       "      <td>AAV5</td>\n",
       "      <td>Yes</td>\n",
       "      <td>Yes</td>\n",
       "      <td>Intravenous</td>\n",
       "      <td>Hematology</td>\n",
       "      <td>Phase 1/2</td>\n",
       "      <td>2021</td>\n",
       "    </tr>\n",
       "    <tr>\n",
       "      <th>2</th>\n",
       "      <td>3</td>\n",
       "      <td>Efficacy and Safety of AAV2-REP1 for the Treat...</td>\n",
       "      <td>BIIB-111</td>\n",
       "      <td>Recruiting</td>\n",
       "      <td>14.0</td>\n",
       "      <td>AAV2</td>\n",
       "      <td>Yes</td>\n",
       "      <td>Yes</td>\n",
       "      <td>Subretinal</td>\n",
       "      <td>Ophthalmology</td>\n",
       "      <td>Phase 3</td>\n",
       "      <td>2020</td>\n",
       "    </tr>\n",
       "    <tr>\n",
       "      <th>3</th>\n",
       "      <td>11</td>\n",
       "      <td>AAV2-GDNF for Advanced Parkinson?s Disease</td>\n",
       "      <td>AMT-090</td>\n",
       "      <td>Active, not recruiting</td>\n",
       "      <td>13.0</td>\n",
       "      <td>AAV2</td>\n",
       "      <td>Yes</td>\n",
       "      <td>Yes</td>\n",
       "      <td>Intracranial</td>\n",
       "      <td>Neurology</td>\n",
       "      <td>Phase 1</td>\n",
       "      <td>2022</td>\n",
       "    </tr>\n",
       "  </tbody>\n",
       "</table>\n",
       "</div>"
      ],
      "text/plain": [
       "   Unnamed: 0                                              title   drug_id  \\\n",
       "1           1  Trial of AAV5-hFIX in Severe or Moderately Sev...   AMT-061   \n",
       "2           3  Efficacy and Safety of AAV2-REP1 for the Treat...  BIIB-111   \n",
       "3          11         AAV2-GDNF for Advanced Parkinson?s Disease   AMT-090   \n",
       "\n",
       "                   status  points vector safety_met efficacy_met  \\\n",
       "1  Active, not recruiting    10.0   AAV5        Yes          Yes   \n",
       "2              Recruiting    14.0   AAV2        Yes          Yes   \n",
       "3  Active, not recruiting    13.0   AAV2        Yes          Yes   \n",
       "\n",
       "  administration_therapeutic_route  administration_therapeutic_area  \\\n",
       "1                       Intravenous                      Hematology   \n",
       "2                        Subretinal                   Ophthalmology   \n",
       "3                      Intracranial                       Neurology   \n",
       "\n",
       "      phases  primary_completion  \n",
       "1  Phase 1/2                2021  \n",
       "2    Phase 3                2020  \n",
       "3    Phase 1                2022  "
      ]
     },
     "execution_count": 30,
     "metadata": {},
     "output_type": "execute_result"
    }
   ],
   "source": [
    "successes = df.query(\"efficacy_met == 'Yes'\")\n",
    "successes.head(3)"
   ]
  }
 ],
 "metadata": {
  "kernelspec": {
   "display_name": "Python 3",
   "language": "python",
   "name": "python3"
  },
  "language_info": {
   "codemirror_mode": {
    "name": "ipython",
    "version": 3
   },
   "file_extension": ".py",
   "mimetype": "text/x-python",
   "name": "python",
   "nbconvert_exporter": "python",
   "pygments_lexer": "ipython3",
   "version": "3.11.1"
  },
  "orig_nbformat": 4
 },
 "nbformat": 4,
 "nbformat_minor": 2
}
