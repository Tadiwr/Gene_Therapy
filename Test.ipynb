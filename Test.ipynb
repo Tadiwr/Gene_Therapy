{
 "cells": [
  {
   "cell_type": "code",
   "execution_count": 1,
   "metadata": {},
   "outputs": [],
   "source": [
    "import pandas as pd\n",
    "import joblib"
   ]
  },
  {
   "cell_type": "code",
   "execution_count": 2,
   "metadata": {},
   "outputs": [
    {
     "data": {
      "text/html": [
       "<div>\n",
       "<style scoped>\n",
       "    .dataframe tbody tr th:only-of-type {\n",
       "        vertical-align: middle;\n",
       "    }\n",
       "\n",
       "    .dataframe tbody tr th {\n",
       "        vertical-align: top;\n",
       "    }\n",
       "\n",
       "    .dataframe thead th {\n",
       "        text-align: right;\n",
       "    }\n",
       "</style>\n",
       "<table border=\"1\" class=\"dataframe\">\n",
       "  <thead>\n",
       "    <tr style=\"text-align: right;\">\n",
       "      <th></th>\n",
       "      <th>drug_id</th>\n",
       "      <th>status</th>\n",
       "      <th>points</th>\n",
       "      <th>vector</th>\n",
       "      <th>safety_met</th>\n",
       "      <th>efficacy_met</th>\n",
       "      <th>administration_therapeutic_route</th>\n",
       "      <th>administration_therapeutic_area</th>\n",
       "      <th>phases</th>\n",
       "      <th>primary_completion</th>\n",
       "    </tr>\n",
       "  </thead>\n",
       "  <tbody>\n",
       "    <tr>\n",
       "      <th>58</th>\n",
       "      <td>Glybera</td>\n",
       "      <td>Completed</td>\n",
       "      <td>6.0</td>\n",
       "      <td>AAV1</td>\n",
       "      <td>Yes</td>\n",
       "      <td>Yes</td>\n",
       "      <td>Intramuscular</td>\n",
       "      <td>Metabolic</td>\n",
       "      <td>Phase 2/3</td>\n",
       "      <td>2010</td>\n",
       "    </tr>\n",
       "    <tr>\n",
       "      <th>59</th>\n",
       "      <td>VYAADC-01</td>\n",
       "      <td>Active, not recruiting</td>\n",
       "      <td>16.0</td>\n",
       "      <td>AAV2</td>\n",
       "      <td>Yes</td>\n",
       "      <td>Yes</td>\n",
       "      <td>Intracranial</td>\n",
       "      <td>Neurology</td>\n",
       "      <td>Phase 1</td>\n",
       "      <td>2021</td>\n",
       "    </tr>\n",
       "  </tbody>\n",
       "</table>\n",
       "</div>"
      ],
      "text/plain": [
       "      drug_id                  status  points vector safety_met efficacy_met  \\\n",
       "58    Glybera               Completed     6.0   AAV1        Yes          Yes   \n",
       "59  VYAADC-01  Active, not recruiting    16.0   AAV2        Yes          Yes   \n",
       "\n",
       "   administration_therapeutic_route  administration_therapeutic_area  \\\n",
       "58                     Intramuscular                       Metabolic   \n",
       "59                      Intracranial                       Neurology   \n",
       "\n",
       "       phases  primary_completion  \n",
       "58  Phase 2/3                2010  \n",
       "59    Phase 1                2021  "
      ]
     },
     "execution_count": 2,
     "metadata": {},
     "output_type": "execute_result"
    }
   ],
   "source": [
    "df = pd.read_csv(\"./cleaned_dataset.csv\").drop(columns=[\"Unnamed: 0\", \"title\"])\n",
    "df.tail(2)"
   ]
  },
  {
   "cell_type": "code",
   "execution_count": 3,
   "metadata": {},
   "outputs": [
    {
     "name": "stderr",
     "output_type": "stream",
     "text": [
      "C:\\Users\\tadiw\\AppData\\Local\\Temp\\ipykernel_20632\\3846483249.py:1: FutureWarning: The frame.append method is deprecated and will be removed from pandas in a future version. Use pandas.concat instead.\n",
      "  df = df.append(ignore_index=True, other={\n"
     ]
    }
   ],
   "source": [
    "df = df.append(ignore_index=True, other={\n",
    "        \"drug_id\": \"1000SPJ\",\n",
    "        \"status\": \"Completed\",\n",
    "        \"points\": 6.0,\n",
    "        \"vector\": \"AAV1\",\n",
    "        \"safety_met\": \"Yes\",\n",
    "        \"efficacy_met\": \"No\",\n",
    "        \"administration_therapeutic_route\": \"Intermascular\",\n",
    "        \"administration_therapeutic_area\": \"Cardiovascular\",\n",
    "        \"phases\": \"Phase 1./2\",\n",
    "        \"primary_completion\": 2023\n",
    "    })"
   ]
  },
  {
   "cell_type": "code",
   "execution_count": 5,
   "metadata": {},
   "outputs": [
    {
     "data": {
      "text/html": [
       "<div>\n",
       "<style scoped>\n",
       "    .dataframe tbody tr th:only-of-type {\n",
       "        vertical-align: middle;\n",
       "    }\n",
       "\n",
       "    .dataframe tbody tr th {\n",
       "        vertical-align: top;\n",
       "    }\n",
       "\n",
       "    .dataframe thead th {\n",
       "        text-align: right;\n",
       "    }\n",
       "</style>\n",
       "<table border=\"1\" class=\"dataframe\">\n",
       "  <thead>\n",
       "    <tr style=\"text-align: right;\">\n",
       "      <th></th>\n",
       "      <th>drug_id</th>\n",
       "      <th>status</th>\n",
       "      <th>points</th>\n",
       "      <th>vector</th>\n",
       "      <th>safety_met</th>\n",
       "      <th>efficacy_met</th>\n",
       "      <th>administration_therapeutic_route</th>\n",
       "      <th>administration_therapeutic_area</th>\n",
       "      <th>phases</th>\n",
       "      <th>primary_completion</th>\n",
       "      <th>administration_therapeutic_route</th>\n",
       "    </tr>\n",
       "  </thead>\n",
       "  <tbody>\n",
       "    <tr>\n",
       "      <th>59</th>\n",
       "      <td>VYAADC-01</td>\n",
       "      <td>Active, not recruiting</td>\n",
       "      <td>16.0</td>\n",
       "      <td>AAV2</td>\n",
       "      <td>Yes</td>\n",
       "      <td>Yes</td>\n",
       "      <td>Intracranial</td>\n",
       "      <td>Neurology</td>\n",
       "      <td>Phase 1</td>\n",
       "      <td>2021</td>\n",
       "      <td>NaN</td>\n",
       "    </tr>\n",
       "    <tr>\n",
       "      <th>60</th>\n",
       "      <td>1000SPJ</td>\n",
       "      <td>Completed</td>\n",
       "      <td>6.0</td>\n",
       "      <td>AAV1</td>\n",
       "      <td>Yes</td>\n",
       "      <td>No</td>\n",
       "      <td>NaN</td>\n",
       "      <td>Cardiovascular</td>\n",
       "      <td>Phase 1./2</td>\n",
       "      <td>2023</td>\n",
       "      <td>Intermascular</td>\n",
       "    </tr>\n",
       "  </tbody>\n",
       "</table>\n",
       "</div>"
      ],
      "text/plain": [
       "      drug_id                  status  points vector safety_met efficacy_met  \\\n",
       "59  VYAADC-01  Active, not recruiting    16.0   AAV2        Yes          Yes   \n",
       "60    1000SPJ               Completed     6.0   AAV1        Yes           No   \n",
       "\n",
       "   administration_therapeutic_route  administration_therapeutic_area  \\\n",
       "59                      Intracranial                       Neurology   \n",
       "60                               NaN                  Cardiovascular   \n",
       "\n",
       "        phases  primary_completion administration_therapeutic_route  \n",
       "59     Phase 1                2021                              NaN  \n",
       "60  Phase 1./2                2023                    Intermascular  "
      ]
     },
     "execution_count": 5,
     "metadata": {},
     "output_type": "execute_result"
    }
   ],
   "source": [
    "df.tail(2)"
   ]
  },
  {
   "cell_type": "markdown",
   "metadata": {},
   "source": []
  },
  {
   "cell_type": "code",
   "execution_count": 6,
   "metadata": {},
   "outputs": [
    {
     "data": {
      "text/html": [
       "<div>\n",
       "<style scoped>\n",
       "    .dataframe tbody tr th:only-of-type {\n",
       "        vertical-align: middle;\n",
       "    }\n",
       "\n",
       "    .dataframe tbody tr th {\n",
       "        vertical-align: top;\n",
       "    }\n",
       "\n",
       "    .dataframe thead th {\n",
       "        text-align: right;\n",
       "    }\n",
       "</style>\n",
       "<table border=\"1\" class=\"dataframe\">\n",
       "  <thead>\n",
       "    <tr style=\"text-align: right;\">\n",
       "      <th></th>\n",
       "      <th>drug_id</th>\n",
       "      <th>status</th>\n",
       "      <th>points</th>\n",
       "      <th>vector</th>\n",
       "      <th>safety_met</th>\n",
       "      <th>efficacy_met</th>\n",
       "      <th>administration_therapeutic_route</th>\n",
       "      <th>administration_therapeutic_area</th>\n",
       "      <th>phases</th>\n",
       "      <th>primary_completion</th>\n",
       "      <th>administration_therapeutic_route</th>\n",
       "    </tr>\n",
       "  </thead>\n",
       "  <tbody>\n",
       "    <tr>\n",
       "      <th>60</th>\n",
       "      <td>1000SPJ</td>\n",
       "      <td>Completed</td>\n",
       "      <td>6.0</td>\n",
       "      <td>AAV1</td>\n",
       "      <td>Yes</td>\n",
       "      <td>No</td>\n",
       "      <td>NaN</td>\n",
       "      <td>Cardiovascular</td>\n",
       "      <td>Phase 1./2</td>\n",
       "      <td>2023</td>\n",
       "      <td>Intermascular</td>\n",
       "    </tr>\n",
       "  </tbody>\n",
       "</table>\n",
       "</div>"
      ],
      "text/plain": [
       "    drug_id     status  points vector safety_met efficacy_met  \\\n",
       "60  1000SPJ  Completed     6.0   AAV1        Yes           No   \n",
       "\n",
       "   administration_therapeutic_route  administration_therapeutic_area  \\\n",
       "60                               NaN                  Cardiovascular   \n",
       "\n",
       "        phases  primary_completion administration_therapeutic_route  \n",
       "60  Phase 1./2                2023                    Intermascular  "
      ]
     },
     "execution_count": 6,
     "metadata": {},
     "output_type": "execute_result"
    }
   ],
   "source": [
    "l = len(df) - 1 \n",
    "\n",
    "for x in range(0, l):\n",
    "    df.drop(index=x, inplace=True)\n",
    "\n",
    "df"
   ]
  },
  {
   "cell_type": "code",
   "execution_count": 63,
   "metadata": {},
   "outputs": [
    {
     "data": {
      "text/plain": [
       "array(['Ophthalmology', 'Hematology', 'Neurology', 'Musculoskeletal',\n",
       "       'Oncology', 'Pulmonary', 'Metabolic', 'Autoimmune', 'Virology',\n",
       "       'Cardiovascular'], dtype=object)"
      ]
     },
     "execution_count": 63,
     "metadata": {},
     "output_type": "execute_result"
    }
   ],
   "source": [
    "df.administration_therapeutic_area.unique()"
   ]
  },
  {
   "cell_type": "code",
   "execution_count": 64,
   "metadata": {},
   "outputs": [
    {
     "data": {
      "text/plain": [
       "array(['Phase 1/2', 'Phase 3', 'Phase 1', 'Phase 2', 'Phase 2/3'],\n",
       "      dtype=object)"
      ]
     },
     "execution_count": 64,
     "metadata": {},
     "output_type": "execute_result"
    }
   ],
   "source": [
    "df.phases.unique()"
   ]
  },
  {
   "attachments": {},
   "cell_type": "markdown",
   "metadata": {},
   "source": [
    "# Loading the model"
   ]
  },
  {
   "cell_type": "code",
   "execution_count": 65,
   "metadata": {},
   "outputs": [
    {
     "data": {
      "text/html": [
       "<style>#sk-container-id-3 {color: black;background-color: white;}#sk-container-id-3 pre{padding: 0;}#sk-container-id-3 div.sk-toggleable {background-color: white;}#sk-container-id-3 label.sk-toggleable__label {cursor: pointer;display: block;width: 100%;margin-bottom: 0;padding: 0.3em;box-sizing: border-box;text-align: center;}#sk-container-id-3 label.sk-toggleable__label-arrow:before {content: \"▸\";float: left;margin-right: 0.25em;color: #696969;}#sk-container-id-3 label.sk-toggleable__label-arrow:hover:before {color: black;}#sk-container-id-3 div.sk-estimator:hover label.sk-toggleable__label-arrow:before {color: black;}#sk-container-id-3 div.sk-toggleable__content {max-height: 0;max-width: 0;overflow: hidden;text-align: left;background-color: #f0f8ff;}#sk-container-id-3 div.sk-toggleable__content pre {margin: 0.2em;color: black;border-radius: 0.25em;background-color: #f0f8ff;}#sk-container-id-3 input.sk-toggleable__control:checked~div.sk-toggleable__content {max-height: 200px;max-width: 100%;overflow: auto;}#sk-container-id-3 input.sk-toggleable__control:checked~label.sk-toggleable__label-arrow:before {content: \"▾\";}#sk-container-id-3 div.sk-estimator input.sk-toggleable__control:checked~label.sk-toggleable__label {background-color: #d4ebff;}#sk-container-id-3 div.sk-label input.sk-toggleable__control:checked~label.sk-toggleable__label {background-color: #d4ebff;}#sk-container-id-3 input.sk-hidden--visually {border: 0;clip: rect(1px 1px 1px 1px);clip: rect(1px, 1px, 1px, 1px);height: 1px;margin: -1px;overflow: hidden;padding: 0;position: absolute;width: 1px;}#sk-container-id-3 div.sk-estimator {font-family: monospace;background-color: #f0f8ff;border: 1px dotted black;border-radius: 0.25em;box-sizing: border-box;margin-bottom: 0.5em;}#sk-container-id-3 div.sk-estimator:hover {background-color: #d4ebff;}#sk-container-id-3 div.sk-parallel-item::after {content: \"\";width: 100%;border-bottom: 1px solid gray;flex-grow: 1;}#sk-container-id-3 div.sk-label:hover label.sk-toggleable__label {background-color: #d4ebff;}#sk-container-id-3 div.sk-serial::before {content: \"\";position: absolute;border-left: 1px solid gray;box-sizing: border-box;top: 0;bottom: 0;left: 50%;z-index: 0;}#sk-container-id-3 div.sk-serial {display: flex;flex-direction: column;align-items: center;background-color: white;padding-right: 0.2em;padding-left: 0.2em;position: relative;}#sk-container-id-3 div.sk-item {position: relative;z-index: 1;}#sk-container-id-3 div.sk-parallel {display: flex;align-items: stretch;justify-content: center;background-color: white;position: relative;}#sk-container-id-3 div.sk-item::before, #sk-container-id-3 div.sk-parallel-item::before {content: \"\";position: absolute;border-left: 1px solid gray;box-sizing: border-box;top: 0;bottom: 0;left: 50%;z-index: -1;}#sk-container-id-3 div.sk-parallel-item {display: flex;flex-direction: column;z-index: 1;position: relative;background-color: white;}#sk-container-id-3 div.sk-parallel-item:first-child::after {align-self: flex-end;width: 50%;}#sk-container-id-3 div.sk-parallel-item:last-child::after {align-self: flex-start;width: 50%;}#sk-container-id-3 div.sk-parallel-item:only-child::after {width: 0;}#sk-container-id-3 div.sk-dashed-wrapped {border: 1px dashed gray;margin: 0 0.4em 0.5em 0.4em;box-sizing: border-box;padding-bottom: 0.4em;background-color: white;}#sk-container-id-3 div.sk-label label {font-family: monospace;font-weight: bold;display: inline-block;line-height: 1.2em;}#sk-container-id-3 div.sk-label-container {text-align: center;}#sk-container-id-3 div.sk-container {/* jupyter's `normalize.less` sets `[hidden] { display: none; }` but bootstrap.min.css set `[hidden] { display: none !important; }` so we also need the `!important` here to be able to override the default hidden behavior on the sphinx rendered scikit-learn.org. See: https://github.com/scikit-learn/scikit-learn/issues/21755 */display: inline-block !important;position: relative;}#sk-container-id-3 div.sk-text-repr-fallback {display: none;}</style><div id=\"sk-container-id-3\" class=\"sk-top-container\"><div class=\"sk-text-repr-fallback\"><pre>LogisticRegression()</pre><b>In a Jupyter environment, please rerun this cell to show the HTML representation or trust the notebook. <br />On GitHub, the HTML representation is unable to render, please try loading this page with nbviewer.org.</b></div><div class=\"sk-container\" hidden><div class=\"sk-item\"><div class=\"sk-estimator sk-toggleable\"><input class=\"sk-toggleable__control sk-hidden--visually\" id=\"sk-estimator-id-3\" type=\"checkbox\" checked><label for=\"sk-estimator-id-3\" class=\"sk-toggleable__label sk-toggleable__label-arrow\">LogisticRegression</label><div class=\"sk-toggleable__content\"><pre>LogisticRegression()</pre></div></div></div></div></div>"
      ],
      "text/plain": [
       "LogisticRegression()"
      ]
     },
     "execution_count": 65,
     "metadata": {},
     "output_type": "execute_result"
    }
   ],
   "source": [
    "model = joblib.load(\"./models/logistic-reg.joblib\")\n",
    "model"
   ]
  },
  {
   "attachments": {},
   "cell_type": "markdown",
   "metadata": {},
   "source": [
    "# Preparing the data to be predicted"
   ]
  },
  {
   "cell_type": "code",
   "execution_count": 66,
   "metadata": {},
   "outputs": [
    {
     "data": {
      "text/html": [
       "<div>\n",
       "<style scoped>\n",
       "    .dataframe tbody tr th:only-of-type {\n",
       "        vertical-align: middle;\n",
       "    }\n",
       "\n",
       "    .dataframe tbody tr th {\n",
       "        vertical-align: top;\n",
       "    }\n",
       "\n",
       "    .dataframe thead th {\n",
       "        text-align: right;\n",
       "    }\n",
       "</style>\n",
       "<table border=\"1\" class=\"dataframe\">\n",
       "  <thead>\n",
       "    <tr style=\"text-align: right;\">\n",
       "      <th></th>\n",
       "      <th>AAVDB</th>\n",
       "      <th>NCT Number</th>\n",
       "      <th>Title</th>\n",
       "      <th>Drug ID</th>\n",
       "      <th>Status</th>\n",
       "      <th>No of pts</th>\n",
       "      <th>Vector</th>\n",
       "      <th>Safety met</th>\n",
       "      <th>Efficacy met</th>\n",
       "      <th>Administration Therapeutic route</th>\n",
       "      <th>Administration Therapeutic Area</th>\n",
       "      <th>Phases</th>\n",
       "      <th>Primary Completion</th>\n",
       "    </tr>\n",
       "  </thead>\n",
       "  <tbody>\n",
       "    <tr>\n",
       "      <th>0</th>\n",
       "      <td>1</td>\n",
       "      <td>NCT02341807</td>\n",
       "      <td>Safety and Dose Escalation Study of AAV2-hCHM ...</td>\n",
       "      <td>SPK-7001</td>\n",
       "      <td>Active, not recruiting</td>\n",
       "      <td>10.0</td>\n",
       "      <td>AAV2</td>\n",
       "      <td>Yes</td>\n",
       "      <td>No</td>\n",
       "      <td>Subretinal</td>\n",
       "      <td>Ophthalmology</td>\n",
       "      <td>Phase 1/2</td>\n",
       "      <td>1/10/2019</td>\n",
       "    </tr>\n",
       "    <tr>\n",
       "      <th>1</th>\n",
       "      <td>3</td>\n",
       "      <td>NCT02396342</td>\n",
       "      <td>Trial of AAV5-hFIX in Severe or Moderately Sev...</td>\n",
       "      <td>AMT-061</td>\n",
       "      <td>Active, not recruiting</td>\n",
       "      <td>10.0</td>\n",
       "      <td>AAV5</td>\n",
       "      <td>Yes</td>\n",
       "      <td>Yes</td>\n",
       "      <td>Intravenous</td>\n",
       "      <td>Hematology</td>\n",
       "      <td>Phase 1/2</td>\n",
       "      <td>1/5/2021</td>\n",
       "    </tr>\n",
       "  </tbody>\n",
       "</table>\n",
       "</div>"
      ],
      "text/plain": [
       "   AAVDB   NCT Number                                              Title  \\\n",
       "0      1  NCT02341807  Safety and Dose Escalation Study of AAV2-hCHM ...   \n",
       "1      3  NCT02396342  Trial of AAV5-hFIX in Severe or Moderately Sev...   \n",
       "\n",
       "    Drug ID                  Status  No of pts Vector Safety met Efficacy met  \\\n",
       "0  SPK-7001  Active, not recruiting       10.0   AAV2        Yes           No   \n",
       "1   AMT-061  Active, not recruiting       10.0   AAV5        Yes          Yes   \n",
       "\n",
       "  Administration Therapeutic route  Administration Therapeutic Area  \\\n",
       "0                        Subretinal                   Ophthalmology   \n",
       "1                       Intravenous                      Hematology   \n",
       "\n",
       "      Phases Primary Completion  \n",
       "0  Phase 1/2          1/10/2019  \n",
       "1  Phase 1/2           1/5/2021  "
      ]
     },
     "execution_count": 66,
     "metadata": {},
     "output_type": "execute_result"
    }
   ],
   "source": [
    "pred_df = pd.read_csv(\"./Dataset.csv\")\n",
    "pred_df.head(2)"
   ]
  },
  {
   "cell_type": "code",
   "execution_count": null,
   "metadata": {},
   "outputs": [],
   "source": []
  },
  {
   "cell_type": "code",
   "execution_count": 67,
   "metadata": {},
   "outputs": [
    {
     "data": {
      "text/plain": [
       "array(['SPK-7001', 'AMT-061', 'BIIB-111', 'AMT-090', 'VYAADC-01',\n",
       "       'Luxturna', 'SPK-9001', 'A-001', 'CERE-120', 'GT-AADC ',\n",
       "       'BIIB-112', 'AAV1-gammasarcoglycan', 'A-00X', 'AAV-CFTR',\n",
       "       'rAAV1-CMV- hGAA', 'rAAV2-CB- hRPE65', 'AAV2CUhCLN2', 'NLX-P101',\n",
       "       'ART-102', 'AGTC-0106', 'BIIB-087', 'scAAV2- P1ND4v2',\n",
       "       'AAV2/8-HLP- FVIII-V3', 'rAAV1-PG9DP', 'Mydicar', 'SB-525',\n",
       "       'DTX-101', 'RGX-314', 'rAAV 2/2. hRPE65p. hRPE65', 'AT-GTX-501',\n",
       "       'Valrox', 'rAAV2-CBSB- hRPE65', 'AMT-110', 'AAV2/8.TBG.hARSB',\n",
       "       'CERE-110', 'rAAV2.REP1', 'ADVM-043', 'rAAV1.CMV.huFollistatin344',\n",
       "       'MYO-102', 'Zolgensma', 'Glybera', 'GS-010', 'MYO-101'],\n",
       "      dtype=object)"
      ]
     },
     "execution_count": 67,
     "metadata": {},
     "output_type": "execute_result"
    }
   ],
   "source": [
    "df.drug_id.unique()"
   ]
  },
  {
   "cell_type": "code",
   "execution_count": 68,
   "metadata": {},
   "outputs": [
    {
     "data": {
      "text/plain": [
       "array(['AAV2', 'AAV5', 'AAV1', 'AAV8', 'AAV2/5', 'AAV2/8', 'AAVrh10',\n",
       "       'scAAV9', 'AAV9', 'SPK100', 'AAVrh74'], dtype=object)"
      ]
     },
     "execution_count": 68,
     "metadata": {},
     "output_type": "execute_result"
    }
   ],
   "source": [
    "df.vector.unique()"
   ]
  },
  {
   "cell_type": "code",
   "execution_count": 69,
   "metadata": {},
   "outputs": [
    {
     "data": {
      "text/plain": [
       "array(['Subretinal', 'Intravenous', 'Intracranial', 'Intramuscular',\n",
       "       'Intraparotidal', 'Intranasal', 'Intraarticular', 'Intravitreal',\n",
       "       'Intracoronary', 'Subfoveal', 'Intrathecal'], dtype=object)"
      ]
     },
     "execution_count": 69,
     "metadata": {},
     "output_type": "execute_result"
    }
   ],
   "source": [
    "df[\"administration_therapeutic_route \"].unique()"
   ]
  },
  {
   "cell_type": "code",
   "execution_count": 70,
   "metadata": {},
   "outputs": [
    {
     "data": {
      "text/plain": [
       "array(['Phase 1/2', 'Phase 3', 'Phase 1', 'Phase 2', 'Phase 2/3'],\n",
       "      dtype=object)"
      ]
     },
     "execution_count": 70,
     "metadata": {},
     "output_type": "execute_result"
    }
   ],
   "source": [
    "df.phases.unique()"
   ]
  },
  {
   "cell_type": "code",
   "execution_count": 71,
   "metadata": {},
   "outputs": [
    {
     "data": {
      "text/plain": [
       "array(['Active, not recruiting', 'Recruiting', 'Completed', 'Terminated',\n",
       "       'Unknown status'], dtype=object)"
      ]
     },
     "execution_count": 71,
     "metadata": {},
     "output_type": "execute_result"
    }
   ],
   "source": [
    "df.status.unique()"
   ]
  },
  {
   "cell_type": "code",
   "execution_count": 72,
   "metadata": {},
   "outputs": [
    {
     "data": {
      "text/html": [
       "<div>\n",
       "<style scoped>\n",
       "    .dataframe tbody tr th:only-of-type {\n",
       "        vertical-align: middle;\n",
       "    }\n",
       "\n",
       "    .dataframe tbody tr th {\n",
       "        vertical-align: top;\n",
       "    }\n",
       "\n",
       "    .dataframe thead th {\n",
       "        text-align: right;\n",
       "    }\n",
       "</style>\n",
       "<table border=\"1\" class=\"dataframe\">\n",
       "  <thead>\n",
       "    <tr style=\"text-align: right;\">\n",
       "      <th></th>\n",
       "      <th>drug_id</th>\n",
       "      <th>status</th>\n",
       "      <th>points</th>\n",
       "      <th>vector</th>\n",
       "      <th>safety_met</th>\n",
       "      <th>efficacy_met</th>\n",
       "      <th>administration_therapeutic_route</th>\n",
       "      <th>administration_therapeutic_area</th>\n",
       "      <th>phases</th>\n",
       "      <th>primary_completion</th>\n",
       "    </tr>\n",
       "  </thead>\n",
       "  <tbody>\n",
       "  </tbody>\n",
       "</table>\n",
       "</div>"
      ],
      "text/plain": [
       "Empty DataFrame\n",
       "Columns: [drug_id, status, points, vector, safety_met, efficacy_met, administration_therapeutic_route, administration_therapeutic_area, phases, primary_completion]\n",
       "Index: []"
      ]
     },
     "execution_count": 72,
     "metadata": {},
     "output_type": "execute_result"
    }
   ],
   "source": [
    "data = pd.DataFrame({\n",
    "    \"drug_id\": [] ,\n",
    "    \"status\": [],\n",
    "    \"points\": [],\n",
    "    \"vector\": [],\n",
    "    \"safety_met\": [],\n",
    "    \"efficacy_met\": [],\n",
    "    \"administration_therapeutic_route\": [],\n",
    "    \"administration_therapeutic_area\": [],\n",
    "    \"phases\": [],\n",
    "    \"primary_completion\": []\n",
    "})\n",
    "\n",
    "data"
   ]
  },
  {
   "cell_type": "code",
   "execution_count": 73,
   "metadata": {},
   "outputs": [
    {
     "data": {
      "text/html": [
       "<div>\n",
       "<style scoped>\n",
       "    .dataframe tbody tr th:only-of-type {\n",
       "        vertical-align: middle;\n",
       "    }\n",
       "\n",
       "    .dataframe tbody tr th {\n",
       "        vertical-align: top;\n",
       "    }\n",
       "\n",
       "    .dataframe thead th {\n",
       "        text-align: right;\n",
       "    }\n",
       "</style>\n",
       "<table border=\"1\" class=\"dataframe\">\n",
       "  <thead>\n",
       "    <tr style=\"text-align: right;\">\n",
       "      <th></th>\n",
       "      <th>Unnamed: 0</th>\n",
       "      <th>title</th>\n",
       "      <th>drug_id</th>\n",
       "      <th>status</th>\n",
       "      <th>points</th>\n",
       "      <th>vector</th>\n",
       "      <th>safety_met</th>\n",
       "      <th>efficacy_met</th>\n",
       "      <th>administration_therapeutic_route</th>\n",
       "      <th>administration_therapeutic_area</th>\n",
       "      <th>phases</th>\n",
       "      <th>primary_completion</th>\n",
       "    </tr>\n",
       "  </thead>\n",
       "  <tbody>\n",
       "    <tr>\n",
       "      <th>0</th>\n",
       "      <td>0</td>\n",
       "      <td>Safety and Dose Escalation Study of AAV2-hCHM ...</td>\n",
       "      <td>SPK-7001</td>\n",
       "      <td>Active, not recruiting</td>\n",
       "      <td>10.0</td>\n",
       "      <td>AAV2</td>\n",
       "      <td>Yes</td>\n",
       "      <td>No</td>\n",
       "      <td>Subretinal</td>\n",
       "      <td>Ophthalmology</td>\n",
       "      <td>Phase 1/2</td>\n",
       "      <td>2019</td>\n",
       "    </tr>\n",
       "    <tr>\n",
       "      <th>1</th>\n",
       "      <td>1</td>\n",
       "      <td>Trial of AAV5-hFIX in Severe or Moderately Sev...</td>\n",
       "      <td>AMT-061</td>\n",
       "      <td>Active, not recruiting</td>\n",
       "      <td>10.0</td>\n",
       "      <td>AAV5</td>\n",
       "      <td>Yes</td>\n",
       "      <td>Yes</td>\n",
       "      <td>Intravenous</td>\n",
       "      <td>Hematology</td>\n",
       "      <td>Phase 1/2</td>\n",
       "      <td>2021</td>\n",
       "    </tr>\n",
       "  </tbody>\n",
       "</table>\n",
       "</div>"
      ],
      "text/plain": [
       "   Unnamed: 0                                              title   drug_id  \\\n",
       "0           0  Safety and Dose Escalation Study of AAV2-hCHM ...  SPK-7001   \n",
       "1           1  Trial of AAV5-hFIX in Severe or Moderately Sev...   AMT-061   \n",
       "\n",
       "                   status  points vector safety_met efficacy_met  \\\n",
       "0  Active, not recruiting    10.0   AAV2        Yes           No   \n",
       "1  Active, not recruiting    10.0   AAV5        Yes          Yes   \n",
       "\n",
       "  administration_therapeutic_route  administration_therapeutic_area  \\\n",
       "0                        Subretinal                   Ophthalmology   \n",
       "1                       Intravenous                      Hematology   \n",
       "\n",
       "      phases  primary_completion  \n",
       "0  Phase 1/2                2019  \n",
       "1  Phase 1/2                2021  "
      ]
     },
     "execution_count": 73,
     "metadata": {},
     "output_type": "execute_result"
    }
   ],
   "source": [
    "df = pd.read_csv(\"./cleaned_dataset.csv\")\n",
    "df.head(2) "
   ]
  },
  {
   "cell_type": "code",
   "execution_count": 74,
   "metadata": {},
   "outputs": [
    {
     "name": "stdout",
     "output_type": "stream",
     "text": [
      "<class 'pandas.core.frame.DataFrame'>\n",
      "RangeIndex: 60 entries, 0 to 59\n",
      "Data columns (total 12 columns):\n",
      " #   Column                             Non-Null Count  Dtype  \n",
      "---  ------                             --------------  -----  \n",
      " 0   Unnamed: 0                         60 non-null     int64  \n",
      " 1   title                              60 non-null     object \n",
      " 2   drug_id                            60 non-null     object \n",
      " 3   status                             60 non-null     object \n",
      " 4   points                             60 non-null     float64\n",
      " 5   vector                             60 non-null     object \n",
      " 6   safety_met                         60 non-null     object \n",
      " 7   efficacy_met                       60 non-null     object \n",
      " 8   administration_therapeutic_route   60 non-null     object \n",
      " 9   administration_therapeutic_area    60 non-null     object \n",
      " 10  phases                             60 non-null     object \n",
      " 11  primary_completion                 60 non-null     int64  \n",
      "dtypes: float64(1), int64(2), object(9)\n",
      "memory usage: 5.8+ KB\n"
     ]
    }
   ],
   "source": [
    "df.info()"
   ]
  },
  {
   "cell_type": "code",
   "execution_count": 75,
   "metadata": {},
   "outputs": [
    {
     "data": {
      "text/html": [
       "<div>\n",
       "<style scoped>\n",
       "    .dataframe tbody tr th:only-of-type {\n",
       "        vertical-align: middle;\n",
       "    }\n",
       "\n",
       "    .dataframe tbody tr th {\n",
       "        vertical-align: top;\n",
       "    }\n",
       "\n",
       "    .dataframe thead th {\n",
       "        text-align: right;\n",
       "    }\n",
       "</style>\n",
       "<table border=\"1\" class=\"dataframe\">\n",
       "  <thead>\n",
       "    <tr style=\"text-align: right;\">\n",
       "      <th></th>\n",
       "      <th>Unnamed: 0</th>\n",
       "      <th>title</th>\n",
       "      <th>drug_id</th>\n",
       "      <th>status</th>\n",
       "      <th>points</th>\n",
       "      <th>vector</th>\n",
       "      <th>safety_met</th>\n",
       "      <th>efficacy_met</th>\n",
       "      <th>administration_therapeutic_route</th>\n",
       "      <th>administration_therapeutic_area</th>\n",
       "      <th>phases</th>\n",
       "      <th>primary_completion</th>\n",
       "    </tr>\n",
       "  </thead>\n",
       "  <tbody>\n",
       "    <tr>\n",
       "      <th>59</th>\n",
       "      <td>146</td>\n",
       "      <td>Safety and Efficacy Study of VY-AADC01 for Adv...</td>\n",
       "      <td>VYAADC-01</td>\n",
       "      <td>Active, not recruiting</td>\n",
       "      <td>16.0</td>\n",
       "      <td>AAV2</td>\n",
       "      <td>Yes</td>\n",
       "      <td>Yes</td>\n",
       "      <td>Intracranial</td>\n",
       "      <td>Neurology</td>\n",
       "      <td>Phase 1</td>\n",
       "      <td>2021</td>\n",
       "    </tr>\n",
       "  </tbody>\n",
       "</table>\n",
       "</div>"
      ],
      "text/plain": [
       "    Unnamed: 0                                              title    drug_id  \\\n",
       "59         146  Safety and Efficacy Study of VY-AADC01 for Adv...  VYAADC-01   \n",
       "\n",
       "                    status  points vector safety_met efficacy_met  \\\n",
       "59  Active, not recruiting    16.0   AAV2        Yes          Yes   \n",
       "\n",
       "   administration_therapeutic_route  administration_therapeutic_area   phases  \\\n",
       "59                      Intracranial                       Neurology  Phase 1   \n",
       "\n",
       "    primary_completion  \n",
       "59                2021  "
      ]
     },
     "execution_count": 75,
     "metadata": {},
     "output_type": "execute_result"
    }
   ],
   "source": [
    "df.tail(1)"
   ]
  },
  {
   "cell_type": "code",
   "execution_count": 76,
   "metadata": {},
   "outputs": [
    {
     "name": "stderr",
     "output_type": "stream",
     "text": [
      "C:\\Users\\tadiw\\AppData\\Local\\Temp\\ipykernel_12504\\2446368635.py:1: FutureWarning: The frame.append method is deprecated and will be removed from pandas in a future version. Use pandas.concat instead.\n",
      "  df = df.append([0, \"\", \"drug\", \"status\", 10.0, \"vector\", \"yes\",\"no\", \"Route\", \"Area\", \"Phases\", 2023])\n"
     ]
    }
   ],
   "source": [
    "df = df.append([0, \"\", \"drug\", \"status\", 10.0, \"vector\", \"yes\",\"no\", \"Route\", \"Area\", \"Phases\", 2023])"
   ]
  },
  {
   "cell_type": "code",
   "execution_count": 79,
   "metadata": {},
   "outputs": [
    {
     "data": {
      "text/html": [
       "<div>\n",
       "<style scoped>\n",
       "    .dataframe tbody tr th:only-of-type {\n",
       "        vertical-align: middle;\n",
       "    }\n",
       "\n",
       "    .dataframe tbody tr th {\n",
       "        vertical-align: top;\n",
       "    }\n",
       "\n",
       "    .dataframe thead th {\n",
       "        text-align: right;\n",
       "    }\n",
       "</style>\n",
       "<table border=\"1\" class=\"dataframe\">\n",
       "  <thead>\n",
       "    <tr style=\"text-align: right;\">\n",
       "      <th></th>\n",
       "      <th>Unnamed: 0</th>\n",
       "      <th>title</th>\n",
       "      <th>drug_id</th>\n",
       "      <th>status</th>\n",
       "      <th>points</th>\n",
       "      <th>vector</th>\n",
       "      <th>safety_met</th>\n",
       "      <th>efficacy_met</th>\n",
       "      <th>administration_therapeutic_route</th>\n",
       "      <th>administration_therapeutic_area</th>\n",
       "      <th>phases</th>\n",
       "      <th>primary_completion</th>\n",
       "      <th>0</th>\n",
       "    </tr>\n",
       "  </thead>\n",
       "  <tbody>\n",
       "    <tr>\n",
       "      <th>11</th>\n",
       "      <td>NaN</td>\n",
       "      <td>NaN</td>\n",
       "      <td>NaN</td>\n",
       "      <td>NaN</td>\n",
       "      <td>NaN</td>\n",
       "      <td>NaN</td>\n",
       "      <td>NaN</td>\n",
       "      <td>NaN</td>\n",
       "      <td>NaN</td>\n",
       "      <td>NaN</td>\n",
       "      <td>NaN</td>\n",
       "      <td>NaN</td>\n",
       "      <td>2023</td>\n",
       "    </tr>\n",
       "  </tbody>\n",
       "</table>\n",
       "</div>"
      ],
      "text/plain": [
       "    Unnamed: 0 title drug_id status  points vector safety_met efficacy_met  \\\n",
       "11         NaN   NaN     NaN    NaN     NaN    NaN        NaN          NaN   \n",
       "\n",
       "   administration_therapeutic_route  administration_therapeutic_area phases  \\\n",
       "11                               NaN                             NaN    NaN   \n",
       "\n",
       "    primary_completion     0  \n",
       "11                 NaN  2023  "
      ]
     },
     "execution_count": 79,
     "metadata": {},
     "output_type": "execute_result"
    }
   ],
   "source": [
    "df.tail(1)"
   ]
  }
 ],
 "metadata": {
  "kernelspec": {
   "display_name": "Python 3",
   "language": "python",
   "name": "python3"
  },
  "language_info": {
   "codemirror_mode": {
    "name": "ipython",
    "version": 3
   },
   "file_extension": ".py",
   "mimetype": "text/x-python",
   "name": "python",
   "nbconvert_exporter": "python",
   "pygments_lexer": "ipython3",
   "version": "3.11.1"
  },
  "orig_nbformat": 4
 },
 "nbformat": 4,
 "nbformat_minor": 2
}
