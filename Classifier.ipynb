{
 "cells": [
  {
   "cell_type": "code",
   "execution_count": 1,
   "metadata": {},
   "outputs": [],
   "source": [
    "import pandas as pd\n",
    "import datetime as dt\n",
    "from sklearn.preprocessing import LabelEncoder\n"
   ]
  },
  {
   "attachments": {},
   "cell_type": "markdown",
   "metadata": {},
   "source": [
    "# The Data\n"
   ]
  },
  {
   "cell_type": "code",
   "execution_count": 2,
   "metadata": {},
   "outputs": [
    {
     "data": {
      "text/html": [
       "<div>\n",
       "<style scoped>\n",
       "    .dataframe tbody tr th:only-of-type {\n",
       "        vertical-align: middle;\n",
       "    }\n",
       "\n",
       "    .dataframe tbody tr th {\n",
       "        vertical-align: top;\n",
       "    }\n",
       "\n",
       "    .dataframe thead th {\n",
       "        text-align: right;\n",
       "    }\n",
       "</style>\n",
       "<table border=\"1\" class=\"dataframe\">\n",
       "  <thead>\n",
       "    <tr style=\"text-align: right;\">\n",
       "      <th></th>\n",
       "      <th>Unnamed: 0</th>\n",
       "      <th>Title</th>\n",
       "      <th>Drug ID</th>\n",
       "      <th>Status</th>\n",
       "      <th>No of pts</th>\n",
       "      <th>Vector</th>\n",
       "      <th>Safety met</th>\n",
       "      <th>Efficacy met</th>\n",
       "      <th>Administration Therapeutic route</th>\n",
       "      <th>Administration Therapeutic Area</th>\n",
       "      <th>Phases</th>\n",
       "      <th>Primary Completion</th>\n",
       "    </tr>\n",
       "  </thead>\n",
       "  <tbody>\n",
       "    <tr>\n",
       "      <th>0</th>\n",
       "      <td>0</td>\n",
       "      <td>Safety and Dose Escalation Study of AAV2-hCHM ...</td>\n",
       "      <td>SPK-7001</td>\n",
       "      <td>Active, not recruiting</td>\n",
       "      <td>10.0</td>\n",
       "      <td>AAV2</td>\n",
       "      <td>Yes</td>\n",
       "      <td>No</td>\n",
       "      <td>Subretinal</td>\n",
       "      <td>Ophthalmology</td>\n",
       "      <td>Phase 1/2</td>\n",
       "      <td>2019</td>\n",
       "    </tr>\n",
       "    <tr>\n",
       "      <th>1</th>\n",
       "      <td>1</td>\n",
       "      <td>Trial of AAV5-hFIX in Severe or Moderately Sev...</td>\n",
       "      <td>AMT-061</td>\n",
       "      <td>Active, not recruiting</td>\n",
       "      <td>10.0</td>\n",
       "      <td>AAV5</td>\n",
       "      <td>Yes</td>\n",
       "      <td>Yes</td>\n",
       "      <td>Intravenous</td>\n",
       "      <td>Hematology</td>\n",
       "      <td>Phase 1/2</td>\n",
       "      <td>2021</td>\n",
       "    </tr>\n",
       "    <tr>\n",
       "      <th>2</th>\n",
       "      <td>3</td>\n",
       "      <td>Efficacy and Safety of AAV2-REP1 for the Treat...</td>\n",
       "      <td>BIIB-111</td>\n",
       "      <td>Recruiting</td>\n",
       "      <td>14.0</td>\n",
       "      <td>AAV2</td>\n",
       "      <td>Yes</td>\n",
       "      <td>Yes</td>\n",
       "      <td>Subretinal</td>\n",
       "      <td>Ophthalmology</td>\n",
       "      <td>Phase 3</td>\n",
       "      <td>2020</td>\n",
       "    </tr>\n",
       "    <tr>\n",
       "      <th>3</th>\n",
       "      <td>11</td>\n",
       "      <td>AAV2-GDNF for Advanced Parkinson?s Disease</td>\n",
       "      <td>AMT-090</td>\n",
       "      <td>Active, not recruiting</td>\n",
       "      <td>13.0</td>\n",
       "      <td>AAV2</td>\n",
       "      <td>Yes</td>\n",
       "      <td>Yes</td>\n",
       "      <td>Intracranial</td>\n",
       "      <td>Neurology</td>\n",
       "      <td>Phase 1</td>\n",
       "      <td>2022</td>\n",
       "    </tr>\n",
       "    <tr>\n",
       "      <th>4</th>\n",
       "      <td>13</td>\n",
       "      <td>A Study of AAV-hAADC-2 in Subjects With Parkin...</td>\n",
       "      <td>VYAADC-01</td>\n",
       "      <td>Completed</td>\n",
       "      <td>10.0</td>\n",
       "      <td>AAV1</td>\n",
       "      <td>Yes</td>\n",
       "      <td>Yes but comparable to placebo in other studies</td>\n",
       "      <td>Intracranial</td>\n",
       "      <td>Neurology</td>\n",
       "      <td>Phase 1</td>\n",
       "      <td>2013</td>\n",
       "    </tr>\n",
       "  </tbody>\n",
       "</table>\n",
       "</div>"
      ],
      "text/plain": [
       "   Unnamed: 0                                              Title    Drug ID  \\\n",
       "0           0  Safety and Dose Escalation Study of AAV2-hCHM ...   SPK-7001   \n",
       "1           1  Trial of AAV5-hFIX in Severe or Moderately Sev...    AMT-061   \n",
       "2           3  Efficacy and Safety of AAV2-REP1 for the Treat...   BIIB-111   \n",
       "3          11         AAV2-GDNF for Advanced Parkinson?s Disease    AMT-090   \n",
       "4          13  A Study of AAV-hAADC-2 in Subjects With Parkin...  VYAADC-01   \n",
       "\n",
       "                   Status  No of pts Vector Safety met  \\\n",
       "0  Active, not recruiting       10.0   AAV2        Yes   \n",
       "1  Active, not recruiting       10.0   AAV5        Yes   \n",
       "2              Recruiting       14.0   AAV2        Yes   \n",
       "3  Active, not recruiting       13.0   AAV2        Yes   \n",
       "4               Completed       10.0   AAV1        Yes   \n",
       "\n",
       "                                     Efficacy met  \\\n",
       "0                                              No   \n",
       "1                                             Yes   \n",
       "2                                             Yes   \n",
       "3                                             Yes   \n",
       "4  Yes but comparable to placebo in other studies   \n",
       "\n",
       "  Administration Therapeutic route  Administration Therapeutic Area  \\\n",
       "0                        Subretinal                   Ophthalmology   \n",
       "1                       Intravenous                      Hematology   \n",
       "2                        Subretinal                   Ophthalmology   \n",
       "3                      Intracranial                       Neurology   \n",
       "4                      Intracranial                       Neurology   \n",
       "\n",
       "      Phases  Primary Completion  \n",
       "0  Phase 1/2                2019  \n",
       "1  Phase 1/2                2021  \n",
       "2    Phase 3                2020  \n",
       "3    Phase 1                2022  \n",
       "4    Phase 1                2013  "
      ]
     },
     "execution_count": 2,
     "metadata": {},
     "output_type": "execute_result"
    }
   ],
   "source": [
    "df = pd.read_csv(\"./cleaned_dataset.csv\")\n",
    "df.head()"
   ]
  },
  {
   "cell_type": "code",
   "execution_count": 3,
   "metadata": {},
   "outputs": [
    {
     "name": "stdout",
     "output_type": "stream",
     "text": [
      "<class 'pandas.core.frame.DataFrame'>\n",
      "RangeIndex: 60 entries, 0 to 59\n",
      "Data columns (total 12 columns):\n",
      " #   Column                             Non-Null Count  Dtype  \n",
      "---  ------                             --------------  -----  \n",
      " 0   Unnamed: 0                         60 non-null     int64  \n",
      " 1   Title                              60 non-null     object \n",
      " 2   Drug ID                            60 non-null     object \n",
      " 3   Status                             60 non-null     object \n",
      " 4   No of pts                          60 non-null     float64\n",
      " 5   Vector                             60 non-null     object \n",
      " 6   Safety met                         60 non-null     object \n",
      " 7   Efficacy met                       60 non-null     object \n",
      " 8   Administration Therapeutic route   60 non-null     object \n",
      " 9   Administration Therapeutic Area    60 non-null     object \n",
      " 10  Phases                             60 non-null     object \n",
      " 11  Primary Completion                 60 non-null     int64  \n",
      "dtypes: float64(1), int64(2), object(9)\n",
      "memory usage: 5.8+ KB\n"
     ]
    }
   ],
   "source": [
    "df.info()"
   ]
  },
  {
   "attachments": {},
   "cell_type": "markdown",
   "metadata": {},
   "source": [
    "### Data Cleaning"
   ]
  },
  {
   "cell_type": "code",
   "execution_count": 4,
   "metadata": {},
   "outputs": [
    {
     "data": {
      "text/plain": [
       "Yes                                               40\n",
       "No                                                16\n",
       "yes                                                2\n",
       "Yes but comparable to placebo in other studies     1\n",
       "Preliminary                                        1\n",
       "Name: Efficacy met, dtype: int64"
      ]
     },
     "execution_count": 4,
     "metadata": {},
     "output_type": "execute_result"
    }
   ],
   "source": [
    "df[\"Efficacy met\"].value_counts()"
   ]
  },
  {
   "cell_type": "code",
   "execution_count": 5,
   "metadata": {},
   "outputs": [
    {
     "data": {
      "text/plain": [
       "Yes                                               42\n",
       "No                                                16\n",
       "Yes but comparable to placebo in other studies     1\n",
       "Preliminary                                        1\n",
       "Name: Efficacy met, dtype: int64"
      ]
     },
     "execution_count": 5,
     "metadata": {},
     "output_type": "execute_result"
    }
   ],
   "source": [
    "df[\"Efficacy met\"] =  df[\"Efficacy met\"].replace(\"yes\", \"Yes\")\n",
    "df[\"Efficacy met\"].value_counts()"
   ]
  },
  {
   "cell_type": "code",
   "execution_count": 6,
   "metadata": {},
   "outputs": [
    {
     "data": {
      "text/plain": [
       "Yes                                               42\n",
       "No                                                16\n",
       "Yes but comparable to placebo in other studies     1\n",
       "Name: Efficacy met, dtype: int64"
      ]
     },
     "execution_count": 6,
     "metadata": {},
     "output_type": "execute_result"
    }
   ],
   "source": [
    "import numpy as np\n",
    "df[\"Efficacy met\"] =  df[\"Efficacy met\"].replace(\"Preliminary\", np.NAN)\n",
    "df[\"Efficacy met\"].value_counts()"
   ]
  },
  {
   "cell_type": "code",
   "execution_count": 7,
   "metadata": {},
   "outputs": [
    {
     "data": {
      "text/plain": [
       "Index(['Unnamed: 0', 'Title', 'Drug ID', 'Status', 'No of pts', 'Vector',\n",
       "       'Safety met', 'Efficacy met', 'Administration Therapeutic route ',\n",
       "       'Administration Therapeutic Area', 'Phases', 'Primary Completion'],\n",
       "      dtype='object')"
      ]
     },
     "execution_count": 7,
     "metadata": {},
     "output_type": "execute_result"
    }
   ],
   "source": [
    "df.columns"
   ]
  },
  {
   "cell_type": "code",
   "execution_count": 8,
   "metadata": {},
   "outputs": [
    {
     "name": "stdout",
     "output_type": "stream",
     "text": [
      "<class 'pandas.core.frame.DataFrame'>\n",
      "RangeIndex: 60 entries, 0 to 59\n",
      "Data columns (total 12 columns):\n",
      " #   Column                             Non-Null Count  Dtype  \n",
      "---  ------                             --------------  -----  \n",
      " 0   Unnamed: 0                         60 non-null     int64  \n",
      " 1   Title                              60 non-null     object \n",
      " 2   Drug ID                            60 non-null     object \n",
      " 3   Status                             60 non-null     object \n",
      " 4   No of pts                          60 non-null     float64\n",
      " 5   Vector                             60 non-null     object \n",
      " 6   Safety met                         60 non-null     object \n",
      " 7   Efficacy met                       59 non-null     object \n",
      " 8   Administration Therapeutic route   60 non-null     object \n",
      " 9   Administration Therapeutic Area    60 non-null     object \n",
      " 10  Phases                             60 non-null     object \n",
      " 11  Primary Completion                 60 non-null     int64  \n",
      "dtypes: float64(1), int64(2), object(9)\n",
      "memory usage: 5.8+ KB\n"
     ]
    }
   ],
   "source": [
    "df.info()"
   ]
  },
  {
   "cell_type": "code",
   "execution_count": 10,
   "metadata": {},
   "outputs": [
    {
     "data": {
      "text/plain": [
       "array(['No', 'Yes', 'Yes but comparable to placebo in other studies', nan],\n",
       "      dtype=object)"
      ]
     },
     "execution_count": 10,
     "metadata": {},
     "output_type": "execute_result"
    }
   ],
   "source": [
    "df[\"Efficacy met\"] = df[\"Efficacy met\"].dropna()\n",
    "df[\"Efficacy met\"].unique()"
   ]
  }
 ],
 "metadata": {
  "kernelspec": {
   "display_name": "Python 3",
   "language": "python",
   "name": "python3"
  },
  "language_info": {
   "codemirror_mode": {
    "name": "ipython",
    "version": 3
   },
   "file_extension": ".py",
   "mimetype": "text/x-python",
   "name": "python",
   "nbconvert_exporter": "python",
   "pygments_lexer": "ipython3",
   "version": "3.11.1"
  },
  "orig_nbformat": 4
 },
 "nbformat": 4,
 "nbformat_minor": 2
}
